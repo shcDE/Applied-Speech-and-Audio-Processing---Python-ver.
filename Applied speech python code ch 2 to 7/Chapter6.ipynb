{
 "cells": [
  {
   "cell_type": "markdown",
   "id": "5210a082",
   "metadata": {},
   "source": [
    "## Chapter 6: Audio analysis"
   ]
  },
  {
   "cell_type": "markdown",
   "id": "9a9aca18",
   "metadata": {},
   "source": [
    "### 6.1 Analysis toolkit"
   ]
  },
  {
   "cell_type": "markdown",
   "id": "e3fc9983",
   "metadata": {},
   "source": [
    "#### 6.1.1 Zero-crossing rate"
   ]
  },
  {
   "cell_type": "code",
   "execution_count": 1,
   "id": "dd5d1a1c",
   "metadata": {},
   "outputs": [],
   "source": [
    "# 교재 본문에 없는 임의로 생성한 코드\n",
    "# 예시 신호 세그먼트\n",
    "import numpy as np\n",
    "\n",
    "segment = np.array([0.5, -0.3, 0.1, -0.2, 0.4, -0.5])  # 예시 세그먼트"
   ]
  },
  {
   "cell_type": "code",
   "execution_count": 2,
   "id": "d5e482e5",
   "metadata": {},
   "outputs": [
    {
     "name": "stdout",
     "output_type": "stream",
     "text": [
      "Zero Crossing Rate (ZCR): 0.8333333333333334\n"
     ]
    }
   ],
   "source": [
    "def zcr(segment):\n",
    "    zc = 0\n",
    "    # 제로 크로싱 계산\n",
    "    for m in range(len(segment) - 1):\n",
    "        if segment[m] * segment[m + 1] <= 0:\n",
    "            zc += 1\n",
    "    \n",
    "    # 제로 크로싱 비율 계산\n",
    "    zcr = zc / len(segment)\n",
    "    \n",
    "    return zcr\n",
    "\n",
    "# 함수 호출\n",
    "zcr_value = zcr(segment)\n",
    "print(f\"Zero Crossing Rate (ZCR): {zcr_value}\")"
   ]
  },
  {
   "cell_type": "markdown",
   "id": "5dfb931a",
   "metadata": {},
   "source": [
    "#### 6.1.2 Frame power"
   ]
  },
  {
   "cell_type": "code",
   "execution_count": 3,
   "id": "d3ccec2b",
   "metadata": {},
   "outputs": [
    {
     "name": "stdout",
     "output_type": "stream",
     "text": [
      "Frame Power (fpow): 0.13333333333333333\n"
     ]
    }
   ],
   "source": [
    "def fpow(segment):\n",
    "    # 프레임 전력 계산\n",
    "    fpow = np.sum(segment ** 2) / len(segment)\n",
    "    \n",
    "    return fpow\n",
    "\n",
    "# 함수 호출\n",
    "fpow_value = fpow(segment)\n",
    "print(f\"Frame Power (fpow): {fpow_value}\")"
   ]
  },
  {
   "cell_type": "markdown",
   "id": "268d5127",
   "metadata": {},
   "source": [
    "#### 6.1.3 Average3 magnitude difference function"
   ]
  },
  {
   "cell_type": "code",
   "execution_count": 4,
   "id": "7d77ccb8",
   "metadata": {},
   "outputs": [
    {
     "name": "stdout",
     "output_type": "stream",
     "text": [
      "AMDF: 0.3333333333333333\n"
     ]
    }
   ],
   "source": [
    "def amdf(segment):\n",
    "    # AMDF 계산\n",
    "    amdf = np.sum(np.abs(segment)) / len(segment)\n",
    "    \n",
    "    return amdf\n",
    "\n",
    "# 함수 호출\n",
    "amdf_value = amdf(segment)\n",
    "print(f\"AMDF: {amdf_value}\")"
   ]
  },
  {
   "cell_type": "markdown",
   "id": "a02437e2",
   "metadata": {},
   "source": [
    "#### 6.1.4 Spectral measures"
   ]
  },
  {
   "cell_type": "code",
   "execution_count": 5,
   "id": "58a814f4",
   "metadata": {},
   "outputs": [],
   "source": [
    "# 교재 본문에 없는 임의로 생성한 코드\n",
    "# 예시 신호\n",
    "speech_letter_c = np.random.randn(1024)  # 예시로 1024개의 랜덤 신호\n",
    "speech_letter_r = np.random.randn(1024)  # 예시로 1024개의 랜덤 신호"
   ]
  },
  {
   "cell_type": "code",
   "execution_count": 6,
   "id": "62819bda",
   "metadata": {},
   "outputs": [
    {
     "name": "stdout",
     "output_type": "stream",
     "text": [
      "FFT of speech_letter_c (first 10 values): [22.57960003 20.36433147 27.0536809  29.38998629 28.61752686  3.26588212\n",
      " 17.05264908  7.61425138 13.10229412 28.96861716]\n",
      "FFT of speech_letter_r (first 10 values): [ 8.8664027  33.52345358  5.40825374 18.90975296 18.16970107 21.80121178\n",
      " 24.59915663 26.89653528 52.63129269 28.70602287]\n"
     ]
    }
   ],
   "source": [
    "# 신호 길이 계산\n",
    "Nc = len(speech_letter_c)\n",
    "Nr = len(speech_letter_r)\n",
    "\n",
    "# FFT 계산 및 절대값의 첫 번째 절반 구하기 (speech_letter_c)\n",
    "fft_c = np.fft.fft(speech_letter_c)\n",
    "fft_c = np.abs(fft_c[:Nc//2])\n",
    "\n",
    "# FFT 계산 및 절대값의 첫 번째 절반 구하기 (speech_letter_r)\n",
    "fft_r = np.fft.fft(speech_letter_r)\n",
    "fft_r = np.abs(fft_r[:Nr//2])\n",
    "\n",
    "# 결과 출력 (첫 10개의 샘플 확인)\n",
    "print(\"FFT of speech_letter_c (first 10 values):\", fft_c[:10])\n",
    "print(\"FFT of speech_letter_r (first 10 values):\", fft_r[:10])"
   ]
  },
  {
   "cell_type": "code",
   "execution_count": 7,
   "id": "816be3fe",
   "metadata": {},
   "outputs": [],
   "source": [
    "# 저주파수와 고주파수 대역에서의 평균 계산 (speech_letter_c)\n",
    "c_lowf = np.sum(fft_c[:Nc//4]) / (Nc//4)\n",
    "c_highf = np.sum(fft_c[Nc//4:Nc//2]) / (Nc//4)\n",
    "\n",
    "# 저주파수와 고주파수 대역에서의 평균 계산 (speech_letter_r)\n",
    "r_lowf = np.sum(fft_r[:Nr//4]) / (Nr//4)\n",
    "r_highf = np.sum(fft_r[Nr//4:Nr//2]) / (Nr//4)"
   ]
  },
  {
   "cell_type": "code",
   "execution_count": 8,
   "id": "e9d484fd",
   "metadata": {},
   "outputs": [
    {
     "name": "stdout",
     "output_type": "stream",
     "text": [
      "c_ratio: 0.9853957883512846\n",
      "r_ratio: 1.0297210587276842\n"
     ]
    }
   ],
   "source": [
    "# 고주파수와 저주파수 비율 계산\n",
    "c_ratio = c_highf / c_lowf\n",
    "r_ratio = r_highf / r_lowf\n",
    "\n",
    "# 결과 출력\n",
    "print(f\"c_ratio: {c_ratio}\")\n",
    "print(f\"r_ratio: {r_ratio}\")"
   ]
  },
  {
   "cell_type": "markdown",
   "id": "40ab6472",
   "metadata": {},
   "source": [
    "#### 6.1.5 Cepstral analysis"
   ]
  },
  {
   "cell_type": "code",
   "execution_count": 9,
   "id": "778cfed4",
   "metadata": {},
   "outputs": [
    {
     "data": {
      "image/png": "[encoded data removed]",
      "text/plain": [
       "<Figure size 432x288 with 1 Axes>"
      ]
     },
     "metadata": {
      "needs_background": "light"
     },
     "output_type": "display_data"
    }
   ],
   "source": [
    "import matplotlib.pyplot as plt\n",
    "\n",
    "# 예시 신호 세그먼트\n",
    "segment = np.random.randn(480)  # 1024개의 랜덤 샘플로 신호 생성\n",
    "\n",
    "# 신호 길이\n",
    "len_segment = len(segment)\n",
    "\n",
    "# FFT 및 로그를 사용한 켑스트럼 계산\n",
    "ps = np.log(np.abs(np.fft.fft(segment)))\n",
    "cep = np.fft.ifft(ps)\n",
    "\n",
    "# 필터링 수행\n",
    "cut = 30\n",
    "cep2 = np.zeros(len_segment, dtype=complex)\n",
    "cep2[:cut-1] = cep[:cut-1] * 2\n",
    "cep2[0] = cep[0]\n",
    "cep2[cut-1] = cep[cut-1]\n",
    "\n",
    "# 주파수 도메인으로 변환\n",
    "env = np.real(np.fft.fft(cep2))\n",
    "act = np.real(np.fft.fft(cep))\n",
    "\n",
    "# 결과를 플롯\n",
    "fs = 8000  # 교재 본문에 없는 샘플링 속도 예시\n",
    "pl1 = 20 * np.log10(np.abs(env[:len_segment // 2]))\n",
    "pl2 = 20 * np.log10(np.abs(act[:len_segment // 2]))\n",
    "span = np.linspace(1, fs / 2, len_segment // 2)\n",
    "\n",
    "plt.plot(span, pl1, 'k-.', label='Filtered (Envelope)')\n",
    "plt.plot(span, pl2, 'b', label='Original (Cepstrum)')\n",
    "plt.xlabel('Frequency, Hz')\n",
    "plt.ylabel('Amplitude, dB')\n",
    "plt.legend()\n",
    "plt.grid(True)\n",
    "plt.show()"
   ]
  },
  {
   "cell_type": "markdown",
   "id": "9ce3d567",
   "metadata": {},
   "source": [
    "#### 6.1.6 LSP-based measures"
   ]
  },
  {
   "cell_type": "markdown",
   "id": "1062a337",
   "metadata": {},
   "source": [
    "##### 6.1.6.1 Instantaneous LSP analysis"
   ]
  },
  {
   "cell_type": "code",
   "execution_count": 10,
   "id": "28c1f441",
   "metadata": {},
   "outputs": [
    {
     "name": "stdout",
     "output_type": "stream",
     "text": [
      "Shift: -9\n"
     ]
    }
   ],
   "source": [
    "def lsp_shift(w1, w2):\n",
    "    # 두 배열의 합의 차이 계산\n",
    "    shift = np.sum(w1) - np.sum(w2)\n",
    "    return shift\n",
    "\n",
    "# 예시 배열\n",
    "w1 = np.array([1, 2, 3])\n",
    "w2 = np.array([4, 5, 6])\n",
    "\n",
    "# 함수 호출\n",
    "shift_value = lsp_shift(w1, w2)\n",
    "print(f\"Shift: {shift_value}\")"
   ]
  },
  {
   "cell_type": "code",
   "execution_count": 11,
   "id": "b030ae26",
   "metadata": {},
   "outputs": [
    {
     "name": "stdout",
     "output_type": "stream",
     "text": [
      "Bias: 3.0\n"
     ]
    }
   ],
   "source": [
    "def lsp_bias(w):\n",
    "    # 배열의 평균 계산\n",
    "    bias = np.sum(w) / len(w)\n",
    "    return bias\n",
    "\n",
    "# 예시 배열\n",
    "w = np.array([1, 2, 3, 4, 5])\n",
    "\n",
    "# 함수 호출\n",
    "bias_value = lsp_bias(w)\n",
    "print(f\"Bias: {bias_value}\")"
   ]
  },
  {
   "cell_type": "code",
   "execution_count": 12,
   "id": "8dd16c17",
   "metadata": {},
   "outputs": [
    {
     "name": "stdout",
     "output_type": "stream",
     "text": [
      "Deviation: 10.0\n"
     ]
    }
   ],
   "source": [
    "def lsp_dev(w, bar_w, b):\n",
    "    # 배열의 편차 계산\n",
    "    dev = np.sum((w - bar_w) ** b)\n",
    "    return dev\n",
    "\n",
    "# 예시 배열과 값들\n",
    "w = np.array([1, 2, 3, 4, 5])\n",
    "bar_w = np.mean(w)  # 배열의 평균값\n",
    "b = 2  # 제곱 예시\n",
    "\n",
    "# 함수 호출\n",
    "dev_value = lsp_dev(w, bar_w, b)\n",
    "print(f\"Deviation: {dev_value}\")"
   ]
  },
  {
   "cell_type": "code",
   "execution_count": 13,
   "id": "a5d8663f",
   "metadata": {},
   "outputs": [
    {
     "name": "stdout",
     "output_type": "stream",
     "text": [
      "[0.28559933 0.57119866 0.856798   1.14239733 1.42799666 1.71359599\n",
      " 1.99919533 2.28479466 2.57039399 2.85599332]\n"
     ]
    }
   ],
   "source": [
    "# 배열 생성 및 π/11 곱하기\n",
    "bar_w = np.arange(1, 11) * (np.pi / 11)\n",
    "\n",
    "# 출력 확인\n",
    "print(bar_w)"
   ]
  },
  {
   "cell_type": "markdown",
   "id": "dc120445",
   "metadata": {},
   "source": [
    "### 6.3 Analysis of other signals"
   ]
  },
  {
   "cell_type": "markdown",
   "id": "af77a1d9",
   "metadata": {},
   "source": [
    "#### 6.3.1 Analysis of music"
   ]
  },
  {
   "cell_type": "code",
   "execution_count": 14,
   "id": "8563fcbc",
   "metadata": {},
   "outputs": [],
   "source": [
    "# 기존에 설계한 lpc, lpc_lsp, lpcsp 함수 재호출 코드\n",
    "\n",
    "import scipy.signal as signal\n",
    "from scipy.linalg import toeplitz\n",
    "from scipy.signal import freqz\n",
    "\n",
    "def lpc(signal, order):\n",
    "    # 오토 상관 함수 계산\n",
    "    autocorr = np.correlate(signal, signal, mode='full')\n",
    "    autocorr = autocorr[len(autocorr) // 2:]  # 양의 지연만 사용\n",
    "    \n",
    "    # Toeplitz 행렬 생성\n",
    "    R = toeplitz(autocorr[:order])\n",
    "    r = autocorr[1:order + 1]\n",
    "    \n",
    "    # LPC 계수 계산 (Yule-Walker 방정식)\n",
    "    lpc_coeffs = np.linalg.solve(R, r)\n",
    "    \n",
    "    # LPC 계수 반환 (1을 추가해 전체 계수로 반환)\n",
    "    return np.concatenate(([1], -lpc_coeffs))\n",
    "\n",
    "def lpc_lsp(a):\n",
    "    p = len(a)\n",
    "    A = [1]\n",
    "    B = [1]\n",
    "\n",
    "    # A와 B의 값 계산\n",
    "    for k in range(1, p):\n",
    "        A.append((a[k] - a[p - k]) + A[k - 1])\n",
    "        B.append((a[k] + a[p - k]) - B[k - 1])\n",
    "\n",
    "    # 다항식의 근 계산\n",
    "    r1 = np.roots(A)\n",
    "    r2 = np.roots(B)\n",
    "\n",
    "    theta1 = []\n",
    "    theta2 = []\n",
    "\n",
    "    # theta1과 theta2 계산\n",
    "    for k in range(p - 1):\n",
    "        if np.real(r1[k]) < 0:\n",
    "            theta1.append(np.pi - abs(np.arctan2(np.imag(r1[k]), np.real(r1[k]))))\n",
    "        else:\n",
    "            theta1.append(abs(np.arctan2(np.imag(r1[k]), np.real(r1[k]))))\n",
    "        \n",
    "        if np.real(r2[k]) < 0:\n",
    "            theta2.append(np.pi - abs(np.arctan2(np.imag(r2[k]), np.real(r2[k]))))\n",
    "        else:\n",
    "            theta2.append(abs(np.arctan2(np.imag(r2[k]), np.real(r2[k]))))\n",
    "\n",
    "    # theta 계산\n",
    "    p -= 1\n",
    "    theta = [0] * p\n",
    "    for k in range(int(p / 2)):\n",
    "        theta[k] = theta1[k * 2]\n",
    "        theta[k + int(p / 2)] = theta2[k * 2]\n",
    "\n",
    "    # 정렬하여 lsp 반환\n",
    "    lsp = np.sort(theta)\n",
    "    \n",
    "    return lsp\n",
    "\n",
    "def lpcsp(a, lsp):\n",
    "    # 주파수 응답 계산\n",
    "    HH, FF = freqz([1], a, 100)\n",
    "    \n",
    "    # 주파수 응답을 로그 스케일로 플로팅\n",
    "    plt.semilogy(np.abs(HH), 'm-')\n",
    "    \n",
    "    # 현재 축을 저장\n",
    "    V = plt.axis()\n",
    "    \n",
    "    # 축 설정\n",
    "    plt.axis([1, len(FF), V[2], V[3]])\n",
    "    \n",
    "    # lsp 위치에 선을 추가\n",
    "    lsc = 100 / np.pi\n",
    "    for lp in range(len(lsp)):\n",
    "        plt.axvline(x=1 + lsp[lp] * lsc, color='k', linestyle='--')\n",
    "    \n",
    "    # 플롯 보여주기\n",
    "    plt.show()"
   ]
  },
  {
   "cell_type": "code",
   "execution_count": 15,
   "id": "c98d2861",
   "metadata": {},
   "outputs": [
    {
     "data": {
      "image/png": "[encoded data removed]",
      "text/plain": [
       "<Figure size 432x288 with 1 Axes>"
      ]
     },
     "metadata": {
      "needs_background": "light"
     },
     "output_type": "display_data"
    }
   ],
   "source": [
    "# 파라미터 설정\n",
    "P = 16  # LPC 차수\n",
    "Ws = 256  # 윈도우 크기\n",
    "violin = np.random.randn(Ws)  # 예시로 랜덤 신호 생성\n",
    "\n",
    "# 신호 세그먼트에 해밍 창 적용\n",
    "vseg = violin[:Ws] * np.hamming(Ws)\n",
    "\n",
    "# LPC 계수 계산\n",
    "a = lpc(vseg, P)\n",
    "\n",
    "# LPC 계수를 LSP로 변환\n",
    "w = lpc_lsp(a)\n",
    "\n",
    "# LPC 주파수 응답 시각화\n",
    "lpcsp(a, w)"
   ]
  }
 ],
 "metadata": {
  "kernelspec": {
   "display_name": "smplify_x4",
   "language": "python",
   "name": "smplify_x4"
  },
  "language_info": {
   "codemirror_mode": {
    "name": "ipython",
    "version": 3
   },
   "file_extension": ".py",
   "mimetype": "text/x-python",
   "name": "python",
   "nbconvert_exporter": "python",
   "pygments_lexer": "ipython3",
   "version": "3.6.13"
  }
 },
 "nbformat": 4,
 "nbformat_minor": 5
}
