{
 "cells": [
  {
   "cell_type": "markdown",
   "id": "fd169c62",
   "metadata": {},
   "source": [
    "## Chapter 5: Speech communications"
   ]
  },
  {
   "cell_type": "markdown",
   "id": "8941bdca",
   "metadata": {},
   "source": [
    "### 5.2 Parameterisation"
   ]
  },
  {
   "cell_type": "markdown",
   "id": "8e530a36",
   "metadata": {},
   "source": [
    "#### 5.2.1 Linear prediction"
   ]
  },
  {
   "cell_type": "markdown",
   "id": "5e3f5273",
   "metadata": {},
   "source": [
    "##### 5.2.1.1 The LPC filter"
   ]
  },
  {
   "cell_type": "code",
   "execution_count": 1,
   "id": "6c2344b9",
   "metadata": {},
   "outputs": [
    {
     "name": "stdout",
     "output_type": "stream",
     "text": [
      "LPC coefficients: [ 1.         -0.07856689  0.03145775  0.1422262   0.06401753 -0.06793161\n",
      " -0.11100035 -0.0337389   0.01696994 -0.05698843  0.08474846]\n"
     ]
    }
   ],
   "source": [
    "import numpy as np\n",
    "from scipy.signal import lfilter, hamming\n",
    "from scipy.linalg import toeplitz\n",
    "\n",
    "# 예시로 speech 신호를 생성 (실제 신호가 있다고 가정)\n",
    "speech = np.random.randn(1600)  # 예시: 1600개의 랜덤 신호\n",
    "\n",
    "# 첫 160개의 샘플 선택\n",
    "seg = speech[:160]\n",
    "\n",
    "# 해밍 창 적용\n",
    "wseg = seg * hamming(160)\n",
    "\n",
    "# LPC 계산 함수 (order 차수만큼 LPC 계수 계산)\n",
    "def lpc(signal, order):\n",
    "    # 오토 상관 함수 계산\n",
    "    autocorr = np.correlate(signal, signal, mode='full')\n",
    "    autocorr = autocorr[len(autocorr) // 2:]  # 양의 지연만 사용\n",
    "    \n",
    "    # Toeplitz 행렬 생성\n",
    "    R = toeplitz(autocorr[:order])\n",
    "    r = autocorr[1:order + 1]\n",
    "    \n",
    "    # LPC 계수 계산 (Yule-Walker 방정식)\n",
    "    lpc_coeffs = np.linalg.solve(R, r)\n",
    "    \n",
    "    # LPC 계수 반환 (1을 추가해 전체 계수로 반환)\n",
    "    return np.concatenate(([1], -lpc_coeffs))\n",
    "\n",
    "# LPC 계수 계산 (차수 10)\n",
    "a = lpc(wseg, 10)\n",
    "\n",
    "# 결과 출력\n",
    "print(\"LPC coefficients:\", a)"
   ]
  },
  {
   "cell_type": "code",
   "execution_count": 2,
   "id": "49216337",
   "metadata": {},
   "outputs": [],
   "source": [
    "from scipy.signal import freqz\n",
    "\n",
    "# 주파수 응답 계산\n",
    "w, h = freqz(b=[1], a=a)"
   ]
  },
  {
   "cell_type": "code",
   "execution_count": 3,
   "id": "6a2d4f2e",
   "metadata": {},
   "outputs": [],
   "source": [
    "# 주파수 응답 계산\n",
    "w, h = freqz(a)"
   ]
  },
  {
   "cell_type": "code",
   "execution_count": 4,
   "id": "fd3eb459",
   "metadata": {},
   "outputs": [
    {
     "data": {
      "image/png": "[encoded data removed]",
      "text/plain": [
       "<Figure size 432x288 with 1 Axes>"
      ]
     },
     "metadata": {
      "needs_background": "light"
     },
     "output_type": "display_data"
    },
    {
     "name": "stdout",
     "output_type": "stream",
     "text": [
      "Peak Frequency: 8000.0 Hz\n"
     ]
    }
   ],
   "source": [
    "import matplotlib.pyplot as plt\n",
    "\n",
    "# 파라미터 설정\n",
    "Fs = 8000  # 샘플링 속도 (Hz)\n",
    "N = 100  # 주파수 해상도\n",
    "\n",
    "# 'a'는 이전에 계산된 LPC 계수 또는 필터 계수라고 가정합니다.\n",
    "\n",
    "# freqz 함수를 사용하여 주파수 응답 계산\n",
    "H, F = freqz([1], a, N)\n",
    "\n",
    "# 절대값을 사용하여 로그 스케일로 플로팅\n",
    "frequencies = np.linspace(0, Fs, N)  # 주파수 벡터 생성\n",
    "plt.semilogy(frequencies, np.abs(H))\n",
    "plt.title('Frequency Response')\n",
    "plt.xlabel('Frequency [Hz]')\n",
    "plt.ylabel('Magnitude')\n",
    "plt.grid()\n",
    "plt.show()\n",
    "\n",
    "# 주파수 응답에서 최대값 및 그 위치 계산\n",
    "y = np.max(np.abs(H))\n",
    "n = np.argmax(np.abs(H))\n",
    "PeakF = (n * Fs) / (N - 1)\n",
    "\n",
    "# 결과 출력\n",
    "print(f\"Peak Frequency: {PeakF} Hz\")"
   ]
  },
  {
   "cell_type": "markdown",
   "id": "b7151bc4",
   "metadata": {},
   "source": [
    "##### 5.2.1.3 Pre-emphasis of the speech signal"
   ]
  },
  {
   "cell_type": "code",
   "execution_count": 5,
   "id": "1d3f7b19",
   "metadata": {},
   "outputs": [
    {
     "name": "stdout",
     "output_type": "stream",
     "text": [
      "Emphasized Signal (es): [-0.80406512  0.8369731  -0.49146015  1.10187592 -0.90772995  0.52192324\n",
      " -0.44095299  0.22702236 -0.9584804   0.41673963]\n",
      "De-emphasized Signal (ds): [-0.80406512  0.08316206 -0.41349572  0.71422369 -0.23814524  0.29866207\n",
      " -0.1609573   0.07612489 -0.88711331 -0.4149291 ]\n"
     ]
    }
   ],
   "source": [
    "import scipy.signal as signal\n",
    "\n",
    "# 신호 's'가 이미 정의되어 있다고 가정합니다.\n",
    "# 예시: s는 임의의 오디오 신호입니다.\n",
    "s = np.random.randn(1000)  # 예시로 랜덤 신호 생성\n",
    "\n",
    "# 강조/디-엠파시스 필터 계수 설정\n",
    "h = [1, -0.9375]\n",
    "\n",
    "# 강조 필터 적용\n",
    "es = signal.lfilter(h, [1], s)\n",
    "\n",
    "# 디-엠파시스 필터 적용\n",
    "ds = signal.lfilter([1], h, es)\n",
    "\n",
    "# 결과 확인\n",
    "print(\"Emphasized Signal (es):\", es[:10])  # 처음 10개의 샘플 출력\n",
    "print(\"De-emphasized Signal (ds):\", ds[:10])  # 처음 10개의 샘플 출력"
   ]
  },
  {
   "cell_type": "markdown",
   "id": "81f5cd16",
   "metadata": {},
   "source": [
    "##### 5.2.4.1 Derivation of LSPs"
   ]
  },
  {
   "cell_type": "code",
   "execution_count": 6,
   "id": "f1f6ac81",
   "metadata": {},
   "outputs": [
    {
     "name": "stdout",
     "output_type": "stream",
     "text": [
      "LSP Coefficients: [0.36439435 0.40226445 0.63345723 0.76147769 1.03835595 1.16743816\n",
      " 1.25398548 1.33049963 1.3725477  1.42051237]\n"
     ]
    }
   ],
   "source": [
    "import numpy as np\n",
    "\n",
    "def lpc_lsp(a):\n",
    "    p = len(a)\n",
    "    A = [1]\n",
    "    B = [1]\n",
    "\n",
    "    # A와 B의 값 계산\n",
    "    for k in range(1, p):\n",
    "        A.append((a[k] - a[p - k]) + A[k - 1])\n",
    "        B.append((a[k] + a[p - k]) - B[k - 1])\n",
    "\n",
    "    # 다항식의 근 계산\n",
    "    r1 = np.roots(A)\n",
    "    r2 = np.roots(B)\n",
    "\n",
    "    theta1 = []\n",
    "    theta2 = []\n",
    "\n",
    "    # theta1과 theta2 계산\n",
    "    for k in range(p - 1):\n",
    "        if np.real(r1[k]) < 0:\n",
    "            theta1.append(np.pi - abs(np.arctan2(np.imag(r1[k]), np.real(r1[k]))))\n",
    "        else:\n",
    "            theta1.append(abs(np.arctan2(np.imag(r1[k]), np.real(r1[k]))))\n",
    "        \n",
    "        if np.real(r2[k]) < 0:\n",
    "            theta2.append(np.pi - abs(np.arctan2(np.imag(r2[k]), np.real(r2[k]))))\n",
    "        else:\n",
    "            theta2.append(abs(np.arctan2(np.imag(r2[k]), np.real(r2[k]))))\n",
    "\n",
    "    # theta 계산\n",
    "    p -= 1\n",
    "    theta = [0] * p\n",
    "    for k in range(int(p / 2)):\n",
    "        theta[k] = theta1[k * 2]\n",
    "        theta[k + int(p / 2)] = theta2[k * 2]\n",
    "\n",
    "    # 정렬하여 lsp 반환\n",
    "    lsp = np.sort(theta)\n",
    "    \n",
    "    return lsp\n",
    "\n",
    "# 예시로 LPC 계수 'a'를 설정\n",
    "a = np.array([1, -1.6187, 2.3179, -2.9555, 2.8862, -2.5331, 2.2299, -1.3271, 0.9886, -0.6126, 0.2354])\n",
    "lsp = lpc_lsp(a)\n",
    "print(\"LSP Coefficients:\", lsp)"
   ]
  },
  {
   "cell_type": "markdown",
   "id": "9f976122",
   "metadata": {},
   "source": [
    "##### 5.2.4.2 Generation of LPC coefficients from LSPs"
   ]
  },
  {
   "cell_type": "code",
   "execution_count": 7,
   "id": "80b0e417",
   "metadata": {},
   "outputs": [
    {
     "name": "stdout",
     "output_type": "stream",
     "text": [
      "LPC Coefficients: [  1.          -5.5543864   13.16637622 -17.04493239  12.70824884\n",
      "  -5.17362771   0.89853997]\n"
     ]
    }
   ],
   "source": [
    "def lsp_lpc(theta):\n",
    "    p = len(theta)\n",
    "    q = np.cos(theta)\n",
    "\n",
    "    # f1와 f2 초기화\n",
    "    f1 = np.zeros(20)\n",
    "    f1[9] = 1  # MATLAB에서 f1(10)은 파이썬에서 f1[9]임\n",
    "    \n",
    "    f2 = np.zeros(20)\n",
    "    f2[9] = 1  # MATLAB에서 f2(10)은 파이썬에서 f2[9]임\n",
    "\n",
    "    # f1 계산\n",
    "    for i in range(1, p//2 + 1):\n",
    "        f1[9 + i] = -2 * q[2 * i - 2] * f1[9 + i - 1] + 2 * f1[9 + i - 2]\n",
    "        for k in range(i - 1, 0, -1):\n",
    "            f1[9 + k] = f1[9 + k] - 2 * q[2 * i - 2] * f1[9 + k - 1] + f1[9 + k - 2]\n",
    "\n",
    "    # f2 계산\n",
    "    for i in range(1, p//2 + 1):\n",
    "        f2[9 + i] = -2 * q[2 * i - 1] * f2[9 + i - 1] + 2 * f2[9 + i - 2]\n",
    "        for k in range(i - 1, 0, -1):\n",
    "            f2[9 + k] = f2[9 + k] - 2 * q[2 * i - 1] * f2[9 + k - 1] + f2[9 + k - 2]\n",
    "\n",
    "    # f1b와 f2b 계산\n",
    "    f1b = np.zeros(p // 2)\n",
    "    f2b = np.zeros(p // 2)\n",
    "\n",
    "    f1b[0] = f1[10] + 1\n",
    "    f2b[0] = f2[10] - 1\n",
    "\n",
    "    for i in range(1, p // 2):\n",
    "        f1b[i] = f1[9 + i + 1] + f1[9 + i]\n",
    "        f2b[i] = f2[9 + i + 1] - f2[9 + i]\n",
    "\n",
    "    # a2 계산\n",
    "    a2 = np.zeros(p)\n",
    "    for i in range(p // 2):\n",
    "        a2[i] = 0.5 * (f1b[i] + f2b[i])\n",
    "        a2[i + p // 2] = 0.5 * (f1b[(p // 2) - i - 1] - f2b[(p // 2) - i - 1])\n",
    "\n",
    "    # 최종 LPC 계수 반환\n",
    "    a = np.concatenate(([1], a2))\n",
    "\n",
    "    return a\n",
    "\n",
    "# 예시 사용\n",
    "theta = np.array([0.1, 0.2, 0.3, 0.4, 0.5, 0.6])  # 예시 LSP 각도\n",
    "lpc_coeffs = lsp_lpc(theta)\n",
    "print(\"LPC Coefficients:\", lpc_coeffs)"
   ]
  },
  {
   "cell_type": "markdown",
   "id": "e6164645",
   "metadata": {},
   "source": [
    "##### 5.2.4.3 Visualisation of line spectral pairs"
   ]
  },
  {
   "cell_type": "code",
   "execution_count": 8,
   "id": "7705b783",
   "metadata": {},
   "outputs": [
    {
     "data": {
      "image/png": "[encoded data removed]",
      "text/plain": [
       "<Figure size 432x288 with 1 Axes>"
      ]
     },
     "metadata": {
      "needs_background": "light"
     },
     "output_type": "display_data"
    }
   ],
   "source": [
    "def lpcsp(a, lsp):\n",
    "    # 주파수 응답 계산\n",
    "    HH, FF = freqz([1], a, 100)\n",
    "    \n",
    "    # 주파수 응답을 로그 스케일로 플로팅\n",
    "    plt.semilogy(np.abs(HH), 'm-')\n",
    "    \n",
    "    # 현재 축을 저장\n",
    "    V = plt.axis()\n",
    "    \n",
    "    # 축 설정\n",
    "    plt.axis([1, len(FF), V[2], V[3]])\n",
    "    \n",
    "    # lsp 위치에 선을 추가\n",
    "    lsc = 100 / np.pi\n",
    "    for lp in range(len(lsp)):\n",
    "        plt.axvline(x=1 + lsp[lp] * lsc, color='k', linestyle='--')\n",
    "    \n",
    "    # 플롯 보여주기\n",
    "    plt.show()\n",
    "\n",
    "# 예시로 LPC 계수와 LSP를 설정\n",
    "a = np.array([1, -1.6187, 2.3179, -2.9555, 2.8862, -2.5331, 2.2299, -1.3271, 0.9886, -0.6126, 0.2354])  # 예시 LPC 계수\n",
    "lsp = np.array([0.2, 0.4, 0.6, 0.8])  # 예시 LSP 값\n",
    "\n",
    "# 함수 호출\n",
    "lpcsp(a, lsp)"
   ]
  },
  {
   "cell_type": "markdown",
   "id": "39988a6e",
   "metadata": {},
   "source": [
    "### 5.3 Pitch models"
   ]
  },
  {
   "cell_type": "markdown",
   "id": "89c7764a",
   "metadata": {},
   "source": [
    "#### 5.3.2 LTP pitch extraction"
   ]
  },
  {
   "cell_type": "markdown",
   "id": "b6345919",
   "metadata": {},
   "source": [
    "##### 5.3.2.1 Pitch extraction"
   ]
  },
  {
   "cell_type": "code",
   "execution_count": 9,
   "id": "58404296",
   "metadata": {},
   "outputs": [
    {
     "name": "stdout",
     "output_type": "stream",
     "text": [
      "Pitch Gain (B): 0.01774190809829751, Pitch Period (M): 195\n"
     ]
    }
   ],
   "source": [
    "def ltp(sp):\n",
    "    n = len(sp)\n",
    "    \n",
    "    # 피치 검색 범위 설정\n",
    "    pmin = 50\n",
    "    pmax = 200\n",
    "    \n",
    "    # 시간 절약을 위해 신호 제곱을 미리 계산\n",
    "    sp2 = sp ** 2\n",
    "    \n",
    "    # E 배열 계산\n",
    "    E = []\n",
    "    for M in range(pmin, pmax + 1):\n",
    "        e_del = sp[:n - M]\n",
    "        e = sp[M:]\n",
    "        e2 = sp2[M:]\n",
    "        E.append(np.sum((e_del * e) ** 2) / np.sum(e2))\n",
    "    \n",
    "    # 최적의 피치 주기 M 찾기\n",
    "    M_opt = np.argmax(E) + pmin\n",
    "    \n",
    "    # 피치 이득 B 계산\n",
    "    e_del = sp[:n - M_opt]\n",
    "    e = sp[M_opt:]\n",
    "    e2 = sp2[M_opt:]\n",
    "    B = np.sum(e_del * e) / np.sum(e2)\n",
    "    \n",
    "    return B, M_opt\n",
    "\n",
    "# 예시 신호 sp\n",
    "sp = np.random.randn(1000)  # 예시로 랜덤 신호 생성\n",
    "\n",
    "# 함수 호출\n",
    "B, M = ltp(sp)\n",
    "print(f\"Pitch Gain (B): {B}, Pitch Period (M): {M}\")"
   ]
  }
 ],
 "metadata": {
  "kernelspec": {
   "display_name": "smplify_x4",
   "language": "python",
   "name": "smplify_x4"
  },
  "language_info": {
   "codemirror_mode": {
    "name": "ipython",
    "version": 3
   },
   "file_extension": ".py",
   "mimetype": "text/x-python",
   "name": "python",
   "nbconvert_exporter": "python",
   "pygments_lexer": "ipython3",
   "version": "3.6.13"
  }
 },
 "nbformat": 4,
 "nbformat_minor": 5
}
