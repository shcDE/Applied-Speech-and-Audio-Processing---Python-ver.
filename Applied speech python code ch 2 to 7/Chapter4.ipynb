{
 "cells": [
  {
   "cell_type": "markdown",
   "id": "b244d118",
   "metadata": {},
   "source": [
    "## Chapter 4: Hearing"
   ]
  },
  {
   "cell_type": "markdown",
   "id": "e0d1fe9f",
   "metadata": {},
   "source": [
    "### 4.2 Psychoacoustics"
   ]
  },
  {
   "cell_type": "markdown",
   "id": "8f56770d",
   "metadata": {},
   "source": [
    "#### 4.2.1 Equal loudness contours"
   ]
  },
  {
   "cell_type": "code",
   "execution_count": 1,
   "id": "912dfac3",
   "metadata": {},
   "outputs": [],
   "source": [
    "def tonegen(Ft, Fs, Td):\n",
    "    # 시간 벡터 생성\n",
    "    t = np.arange(1, Fs * Td + 1) / Fs\n",
    "    # 사인파 생성\n",
    "    s = np.sin(2 * np.pi * Ft * t)\n",
    "    return s"
   ]
  },
  {
   "cell_type": "code",
   "execution_count": 2,
   "id": "a76eab71",
   "metadata": {},
   "outputs": [],
   "source": [
    "import numpy as np\n",
    "import sounddevice as sd\n",
    "\n",
    "# 톤 생성\n",
    "# 교재에서는 원래 sampling rate가 441000Hz인데, 여기에서는 오디오 하드웨어에서 지원하지 않아 44100Hz로 변경함\n",
    "lo = tonegen(250, 44100, 2)    # 250Hz 톤\n",
    "mi = tonegen(1200, 44100, 2)   # 1200Hz 톤\n",
    "hi = tonegen(11000, 44100, 2)  # 11000Hz 톤\n",
    "\n",
    "# 톤 재생\n",
    "sd.play(lo / np.max(np.abs(lo)), samplerate=44100)  # lo 톤 재생\n",
    "sd.wait()  # 재생이 끝날 때까지 대기\n",
    "\n",
    "sd.play(mi / np.max(np.abs(mi)), samplerate=44100)  # mi 톤 재생\n",
    "sd.wait()  # 재생이 끝날 때까지 대기\n",
    "\n",
    "sd.play(hi / np.max(np.abs(hi)), samplerate=44100)  # hi 톤 재생\n",
    "sd.wait()  # 재생이 끝날 때까지 대기"
   ]
  },
  {
   "cell_type": "markdown",
   "id": "72f0eb65",
   "metadata": {},
   "source": [
    "#### 4.2.8 Masking"
   ]
  },
  {
   "cell_type": "code",
   "execution_count": 3,
   "id": "15db6f6f",
   "metadata": {},
   "outputs": [
    {
     "name": "stdout",
     "output_type": "stream",
     "text": [
      "Low tone (lo): [ 1.17557050e-01  1.90211303e-01  1.90211303e-01  1.17557050e-01\n",
      "  2.44929360e-17 -1.17557050e-01 -1.90211303e-01 -1.90211303e-01\n",
      " -1.17557050e-01 -4.89858720e-17]\n",
      "High tone (hi): [ 0.63742399  0.98228725  0.87630668  0.36812455 -0.30901699 -0.84432793\n",
      " -0.9921147  -0.68454711 -0.06279052  0.58778525]\n"
     ]
    }
   ],
   "source": [
    "# 톤 생성\n",
    "lo = 0.2 * tonegen(800, 8000, 2)  # 0.2배 크기의 800Hz 톤\n",
    "hi = tonegen(880, 8000, 2)        # 880Hz 톤\n",
    "\n",
    "# 출력 예시 (첫 10개 샘플 확인)\n",
    "print(\"Low tone (lo):\", lo[:10])\n",
    "print(\"High tone (hi):\", hi[:10])"
   ]
  },
  {
   "cell_type": "code",
   "execution_count": 4,
   "id": "0962945a",
   "metadata": {},
   "outputs": [],
   "source": [
    "# 사운드 재생 (lo/2, hi/2, (lo+hi)/2)\n",
    "sd.play(lo / 2, samplerate=8000)\n",
    "sd.wait()  # 재생이 끝날 때까지 대기\n",
    "\n",
    "sd.play(hi / 2, samplerate=8000)\n",
    "sd.wait()  # 재생이 끝날 때까지 대기\n",
    "\n",
    "sd.play((lo + hi) / 2, samplerate=8000)\n",
    "sd.wait()  # 재생이 끝날 때까지 대기"
   ]
  },
  {
   "cell_type": "markdown",
   "id": "b25e9af3",
   "metadata": {},
   "source": [
    "#### 4.2.11 Frequency discrimination"
   ]
  },
  {
   "cell_type": "code",
   "execution_count": 5,
   "id": "4d7fb4c8",
   "metadata": {},
   "outputs": [],
   "source": [
    "# 톤 생성\n",
    "t1 = tonegen(1000, 8000, 2)  # 1000Hz 톤 생성 (2초)\n",
    "t2 = tonegen(1002, 8000, 2)  # 1002Hz 톤 생성 (2초)\n",
    "\n",
    "# 사운드 재생\n",
    "sd.play(t1 / np.max(np.abs(t1)), samplerate=8000)\n",
    "sd.wait()  # 재생이 끝날 때까지 대기\n",
    "\n",
    "sd.play(t2 / np.max(np.abs(t2)), samplerate=8000)\n",
    "sd.wait()  # 재생이 끝날 때까지 대기"
   ]
  },
  {
   "cell_type": "markdown",
   "id": "111ef9d6",
   "metadata": {},
   "source": [
    "#### 4.2.12 Pitch of complex tones"
   ]
  },
  {
   "cell_type": "code",
   "execution_count": 6,
   "id": "2c6e4078",
   "metadata": {},
   "outputs": [
    {
     "name": "stdout",
     "output_type": "stream",
     "text": [
      "Tone t1 (196Hz): [0.15333078 0.30303527 0.44557292 0.5775727  0.6959128  0.79779444\n",
      " 0.88080811 0.94299054 0.98287108 0.99950656]\n",
      "Tone t2 (392Hz): [0.30303527 0.5775727  0.79779444 0.94299054 0.99950656 0.96202767\n",
      " 0.83407843 0.62769136 0.36227537 0.06279052]\n",
      "Tone t3 (588Hz): [ 0.44557292  0.79779444  0.98287108  0.96202767  0.73963109  0.36227537\n",
      " -0.0909802  -0.52517463 -0.8493404  -0.99556196]\n",
      "Tone t4 (784Hz): [ 0.5775727   0.94299054  0.96202767  0.62769136  0.06279052 -0.52517463\n",
      " -0.92023185 -0.97726812 -0.67533281 -0.12533323]\n"
     ]
    }
   ],
   "source": [
    "# 톤 생성\n",
    "t1 = tonegen(196, 8000, 2)       # 196Hz 톤 생성 (2초)\n",
    "t2 = tonegen(196 * 2, 8000, 2)   # 392Hz 톤 생성 (2초)\n",
    "t3 = tonegen(196 * 3, 8000, 2)   # 588Hz 톤 생성 (2초)\n",
    "t4 = tonegen(196 * 4, 8000, 2)   # 784Hz 톤 생성 (2초)\n",
    "\n",
    "# 출력 확인 (예시로 첫 10개의 샘플 출력)\n",
    "print(\"Tone t1 (196Hz):\", t1[:10])\n",
    "print(\"Tone t2 (392Hz):\", t2[:10])\n",
    "print(\"Tone t3 (588Hz):\", t3[:10])\n",
    "print(\"Tone t4 (784Hz):\", t4[:10])"
   ]
  },
  {
   "cell_type": "code",
   "execution_count": 7,
   "id": "7a521aad",
   "metadata": {},
   "outputs": [],
   "source": [
    "# 톤 t1 재생\n",
    "sd.play(t1 / np.max(np.abs(t1)), samplerate=8000)\n",
    "sd.wait()  # 재생이 끝날 때까지 대기\n",
    "\n",
    "# t1 + t2 + t3 + t4 재생\n",
    "combined1 = t1 + t2 + t3 + t4\n",
    "sd.play(combined1 / np.max(np.abs(combined1)), samplerate=8000)\n",
    "sd.wait()  # 재생이 끝날 때까지 대기\n",
    "\n",
    "# t2 + t3 + t4 재생\n",
    "combined2 = t2 + t3 + t4\n",
    "sd.play(combined2 / np.max(np.abs(combined2)), samplerate=8000)\n",
    "sd.wait()  # 재생이 끝날 때까지 대기"
   ]
  },
  {
   "cell_type": "markdown",
   "id": "36d469c1",
   "metadata": {},
   "source": [
    "#### 4.2.14 Mistuning of harmonics"
   ]
  },
  {
   "cell_type": "code",
   "execution_count": 8,
   "id": "69fefb0f",
   "metadata": {},
   "outputs": [
    {
     "name": "stdout",
     "output_type": "stream",
     "text": [
      "Tone t1 (440Hz): [ 0.33873792  0.63742399  0.86074203  0.98228725  0.98768834  0.87630668\n",
      "  0.66131187  0.36812455  0.03141076 -0.30901699]\n",
      "Tone t2 (adjusted 3/12): [ 0.39949002  0.732455    0.94344797  0.99733336  0.8851379   0.62554493\n",
      "  0.26178314 -0.14557205 -0.52868588 -0.82376033]\n",
      "Tone t3 (adjusted 8/12): [ 0.52146453  0.88990317  0.99719609  0.81185774  0.38827642 -0.14924619\n",
      " -0.64297191 -0.94801489 -0.97485903 -0.71562681]\n"
     ]
    }
   ],
   "source": [
    "# 기본 노트와 변형된 노트 계산\n",
    "note = 440  # 기본 주파수 (440Hz, A4)\n",
    "\n",
    "# 첫 번째 톤 (440Hz)\n",
    "t1 = tonegen(note, 8000, 1)  # 1초 동안의 440Hz 톤\n",
    "\n",
    "# 두 번째 톤 (음정이 3/12만큼 증가한 톤)\n",
    "t2 = tonegen(note * 2 ** (3/12), 8000, 1)  # 1초 동안의 조정된 톤\n",
    "\n",
    "# 세 번째 톤 (음정이 8/12만큼 증가한 톤)\n",
    "t3 = tonegen(note * 2 ** (8/12), 8000, 1)  # 1초 동안의 조정된 톤\n",
    "\n",
    "# 출력 확인 (첫 10개의 샘플 출력)\n",
    "print(\"Tone t1 (440Hz):\", t1[:10])\n",
    "print(\"Tone t2 (adjusted 3/12):\", t2[:10])\n",
    "print(\"Tone t3 (adjusted 8/12):\", t3[:10])"
   ]
  },
  {
   "cell_type": "code",
   "execution_count": 9,
   "id": "54948dc3",
   "metadata": {},
   "outputs": [],
   "source": [
    "# 세 개의 톤을 더하고 정규화\n",
    "combined_signal = t1 + t2 + t3\n",
    "combined_signal /= np.max(np.abs(combined_signal))  # 정규화\n",
    "\n",
    "# 사운드 재생\n",
    "sd.play(combined_signal, samplerate=8000)\n",
    "sd.wait()  # 재생이 끝날 때까지 대기"
   ]
  },
  {
   "cell_type": "code",
   "execution_count": 10,
   "id": "ebd5ccd2",
   "metadata": {},
   "outputs": [],
   "source": [
    "m2 = tonegen(note * 1.05 * 2 ** (3/12), 8000, 1)  # 1.05배 곱한 3/12 음정 증가 톤\n",
    "\n",
    "# 세 개의 톤을 더하고 정규화\n",
    "combined_signal = t1 + m2 + t3\n",
    "combined_signal /= np.max(np.abs(combined_signal))  # 정규화\n",
    "\n",
    "# 사운드 재생\n",
    "sd.play(combined_signal, samplerate=8000)\n",
    "sd.wait()  # 재생이 끝날 때까지 대기"
   ]
  },
  {
   "cell_type": "markdown",
   "id": "7462e881",
   "metadata": {},
   "source": [
    "#### 4.2.15 The precedence effect"
   ]
  },
  {
   "cell_type": "code",
   "execution_count": 11,
   "id": "e1a4f360",
   "metadata": {},
   "outputs": [
    {
     "name": "stdout",
     "output_type": "stream",
     "text": [
      "Press any key to hear the next echo1\n",
      "Press any key to hear the next echoa\n",
      "Press any key to hear the next echo2\n",
      "Press any key to hear the next echob\n",
      "Press any key to hear the next echo3\n",
      "Press any key to hear the next echoc\n"
     ]
    }
   ],
   "source": [
    "# 예시: audio 배열과 샘플링 속도 (Fs) 설정\n",
    "Fs = 8000  # 샘플링 속도 (8kHz)\n",
    "\n",
    "# 2초 길이의 임의의 오디오 신호 예시 -> 이건 교재 본문에 없음\n",
    "audio = np.random.randn(Fs * 2)  \n",
    "\n",
    "# audio를 1D 배열로 변환\n",
    "audio = np.reshape(audio, (1, len(audio)))[0]\n",
    "\n",
    "# 에코 추가 및 재생\n",
    "for echo in np.arange(0.01, 0.1 + 0.020, 0.020):\n",
    "    pad = np.zeros(int(Fs * echo))  # 에코 패딩\n",
    "    input('Press any key to hear the next echo')  # 사용자 입력 대기\n",
    "    \n",
    "    # 에코 효과 적용 및 신호 결합\n",
    "    echoed_audio = np.concatenate((audio, pad)) + np.concatenate((pad, audio))\n",
    "    \n",
    "    # 오디오 재생\n",
    "    sd.play(echoed_audio / np.max(np.abs(echoed_audio)), samplerate=Fs)\n",
    "    sd.wait()  # 재생 완료 대기"
   ]
  },
  {
   "cell_type": "markdown",
   "id": "59420790",
   "metadata": {},
   "source": [
    "### 4.3 Amplitude and frequency models"
   ]
  },
  {
   "cell_type": "markdown",
   "id": "210f81a5",
   "metadata": {},
   "source": [
    "#### 4.3.2 The Bark scale"
   ]
  },
  {
   "cell_type": "code",
   "execution_count": 12,
   "id": "584f1d6c",
   "metadata": {},
   "outputs": [
    {
     "name": "stdout",
     "output_type": "stream",
     "text": [
      "Hz to Bark: 1000 Hz -> 7.702773976459156 Bark\n",
      "Bark to Hz: 7.702773976459156 Bark -> 1000.0 Hz\n"
     ]
    }
   ],
   "source": [
    "# f2bark 함수 정의 (Hz -> Bark 변환)\n",
    "def f2bark(hz):\n",
    "    cn = 2 * np.pi * hz / (1200 * np.pi)\n",
    "    bark = 6 * np.log(cn + np.sqrt(cn ** 2 + 1))\n",
    "    return bark\n",
    "\n",
    "# bark2f 함수 정의 (Bark -> Hz 변환)\n",
    "def bark2f(bark):\n",
    "    hz = 600 * np.sinh(bark / 6)\n",
    "    return hz\n",
    "\n",
    "# 예시 사용\n",
    "hz_value = 1000  # 예시로 1000Hz\n",
    "bark_value = f2bark(hz_value)\n",
    "hz_converted_back = bark2f(bark_value)\n",
    "\n",
    "print(f\"Hz to Bark: {hz_value} Hz -> {bark_value} Bark\")\n",
    "print(f\"Bark to Hz: {bark_value} Bark -> {hz_converted_back} Hz\")"
   ]
  },
  {
   "cell_type": "markdown",
   "id": "cd279502",
   "metadata": {},
   "source": [
    "### 4.5 Auditory scene analysis"
   ]
  },
  {
   "cell_type": "markdown",
   "id": "d5f19beb",
   "metadata": {},
   "source": [
    "#### 4.5.1 Proximity"
   ]
  },
  {
   "cell_type": "code",
   "execution_count": 13,
   "id": "5c40a8e8",
   "metadata": {},
   "outputs": [],
   "source": [
    "# 파라미터 설정\n",
    "ss = 0.1  # 짧은 사운드 길이 (초)\n",
    "ls = 0.4  # 긴 사운드 길이 (초)\n",
    "Fs = 8000  # 샘플링 속도 (Hz)\n",
    "\n",
    "# 짧은 톤과 긴 톤 생성\n",
    "short_a = tonegen(440, Fs, ss)  # A4 (440Hz) 짧은 톤\n",
    "short_b = tonegen(932, Fs, ss)  # B5 (932Hz) 짧은 톤\n",
    "long_a = tonegen(440, Fs, ls)   # A4 (440Hz) 긴 톤\n",
    "long_b = tonegen(932, Fs, ls)   # B5 (932Hz) 긴 톤\n",
    "\n",
    "# 사운드 매트릭스 생성 (alternating sounds)\n",
    "short_mat = np.concatenate([short_a, short_b])\n",
    "long_mat = np.concatenate([long_a, long_b])\n",
    "\n",
    "# 매트릭스 반복\n",
    "long = np.tile(long_mat, 3)   # 긴 사운드를 3번 반복\n",
    "short = np.tile(short_mat, 12)  # 짧은 사운드를 12번 반복"
   ]
  },
  {
   "cell_type": "code",
   "execution_count": 14,
   "id": "6bdaccbc",
   "metadata": {},
   "outputs": [],
   "source": [
    "# 사운드 재생 (long 신호)\n",
    "sd.play(long / np.max(np.abs(long)), samplerate=Fs)\n",
    "sd.wait()  # 재생이 끝날 때까지 대기"
   ]
  },
  {
   "cell_type": "code",
   "execution_count": 15,
   "id": "41eb9edf",
   "metadata": {},
   "outputs": [],
   "source": [
    "# 사운드 재생 (short 신호)\n",
    "sd.play(short / np.max(np.abs(short)), samplerate=Fs)\n",
    "sd.wait()  # 재생이 끝날 때까지 대기"
   ]
  },
  {
   "cell_type": "markdown",
   "id": "990a7c1a",
   "metadata": {},
   "source": [
    "#### 4.5.2 Closure"
   ]
  },
  {
   "cell_type": "code",
   "execution_count": 16,
   "id": "7f61a1b5",
   "metadata": {},
   "outputs": [],
   "source": [
    "# 파라미터 설정\n",
    "gs = 0.30  # gap/noise 길이 (초)\n",
    "ls = 1.50  # 사운드 길이 (초)\n",
    "Fs = 8000  # 샘플링 속도 (Hz)\n",
    "fr = 110   # 시작 주파수 (Hz)\n",
    "to = 880   # 끝 주파수 (Hz)\n",
    "gap_len = int(Fs * gs)  # gap/noise의 길이\n",
    "au_len = int(Fs * ls)   # 사운드의 길이\n",
    "\n",
    "# Gap과 Noise 생성\n",
    "gap = np.zeros(gap_len)\n",
    "noise = np.random.rand(gap_len)\n",
    "\n",
    "# steadily rising note 생성\n",
    "note_f = np.linspace(fr, to, au_len)  # 주파수가 점점 올라가는 배열\n",
    "\n",
    "# freqgen 함수 정의\n",
    "def freqgen(frequencies, Fs):\n",
    "    t = np.arange(len(frequencies)) / Fs\n",
    "    return np.sin(2 * np.pi * frequencies * t)\n",
    "\n",
    "# 사운드 생성\n",
    "au = freqgen(note_f, Fs)\n",
    "au_gap = np.copy(au)\n",
    "au_noise = np.copy(au)\n",
    "\n",
    "# 사운드에 gap과 noise 추가 (중간에)\n",
    "au_gap[int(au_len/2):int(au_len/2 + gap_len)] = gap\n",
    "au_noise[int(au_len/2):int(au_len/2 + gap_len)] = noise\n",
    "\n",
    "# 사운드 반복\n",
    "au_gap = np.tile(au_gap, 3)\n",
    "au_noise = np.tile(au_noise, 3)"
   ]
  },
  {
   "cell_type": "code",
   "execution_count": 17,
   "id": "d40ba6b3",
   "metadata": {},
   "outputs": [],
   "source": [
    "# 사운드 재생\n",
    "sd.play(au_noise / np.max(np.abs(au_noise)), samplerate=Fs)\n",
    "sd.wait()  # 재생이 끝날 때까지 대기"
   ]
  },
  {
   "cell_type": "code",
   "execution_count": 18,
   "id": "6f50b9cb",
   "metadata": {},
   "outputs": [],
   "source": [
    "sd.play(au_gap / np.max(np.abs(au_gap)), samplerate=Fs)\n",
    "sd.wait()  # 재생이 끝날 때까지 대기"
   ]
  },
  {
   "cell_type": "code",
   "execution_count": 19,
   "id": "f17709c1",
   "metadata": {},
   "outputs": [],
   "source": [
    "sd.play((np.tile(au, 3) + au_noise) / np.max(np.abs(np.tile(au, 3) + au_noise)), samplerate=Fs)\n",
    "sd.wait()  # 재생이 끝날 때까지 대기"
   ]
  },
  {
   "cell_type": "markdown",
   "id": "5c215dbf",
   "metadata": {},
   "source": [
    "#### 4.5.3 Common fate"
   ]
  },
  {
   "cell_type": "code",
   "execution_count": 20,
   "id": "e7cbbc2f",
   "metadata": {},
   "outputs": [],
   "source": [
    "# 파라미터 설정\n",
    "dur = 1.2  # 사운드 길이 (초)\n",
    "Fs = 8000  # 샘플링 속도 (Hz)\n",
    "a = 220  # A 음 (220Hz)\n",
    "b = a * 2 ** (3/12)  # B 음\n",
    "c = a * 2 ** (7/12)  # C 음\n",
    "\n",
    "# 톤 생성 (1옥타브)\n",
    "sa = tonegen(a, Fs, dur)\n",
    "sb = tonegen(b, Fs, dur)\n",
    "sc = tonegen(c, Fs, dur)\n",
    "sa2 = tonegen(a * 2, Fs, dur)\n",
    "sb2 = tonegen(b * 2, Fs, dur)\n",
    "sc2 = tonegen(c * 2, Fs, dur)\n",
    "\n",
    "# 사운드 1, 2 결합\n",
    "sound1 = sa + sb + sc\n",
    "sound2 = sound1 + sa2 + sb2 + sc2\n",
    "\n",
    "# 모듈레이션 생성\n",
    "mod1 = tonegen(7, Fs, dur)\n",
    "mod2 = tonegen(27, Fs, dur)\n",
    "mod3 = tonegen(51, Fs, dur)\n",
    "\n",
    "# AM 변조된 사운드\n",
    "am = mod1 * (sa + sa2)\n",
    "bm = mod2 * (sb + sb2)\n",
    "cm = mod3 * (sc + sc2)"
   ]
  },
  {
   "cell_type": "code",
   "execution_count": 21,
   "id": "8b75b64f",
   "metadata": {},
   "outputs": [],
   "source": [
    "# 0.05초의 Gap\n",
    "gap = np.zeros(int(Fs * 0.05))\n",
    "\n",
    "# 사운드 3 생성\n",
    "sound3 = np.concatenate([am, gap, gap]) + np.concatenate([gap, bm, gap]) + np.concatenate([gap, gap, cm])\n",
    "\n",
    "# 사운드 재생 (정규화)\n",
    "final_sound = np.concatenate([sound1, sound2, sound3])\n",
    "final_sound /= np.max(np.abs(final_sound))\n",
    "\n",
    "# 사운드 재생\n",
    "sd.play(final_sound, samplerate=Fs)\n",
    "sd.wait()  # 재생 완료 대기"
   ]
  },
  {
   "cell_type": "code",
   "execution_count": 22,
   "id": "2b7bd2aa",
   "metadata": {},
   "outputs": [],
   "source": [
    "# AM 변조 재생 (mod1로 변조)\n",
    "am = mod1 * (sa + sa2)\n",
    "bm = mod1 * (sb + sb2)\n",
    "cm = mod1 * (sc + sc2)\n",
    "\n",
    "# 결합된 AM 사운드 재생\n",
    "final_am_sound = np.concatenate([am, bm, cm])\n",
    "final_am_sound /= np.max(np.abs(final_am_sound))\n",
    "sd.play(final_am_sound, samplerate=Fs)\n",
    "sd.wait()  # 재생 완료 대기"
   ]
  },
  {
   "cell_type": "markdown",
   "id": "c0dcc595",
   "metadata": {},
   "source": [
    "#### 4.5.4 Good continuation"
   ]
  },
  {
   "cell_type": "code",
   "execution_count": 23,
   "id": "022e2f06",
   "metadata": {},
   "outputs": [],
   "source": [
    "# freqgen 함수 정의\n",
    "def freqgen(frequencies, Fs):\n",
    "    t = np.arange(len(frequencies)) / Fs\n",
    "    return np.sin(2 * np.pi * frequencies * t)\n",
    "\n",
    "# 파라미터 설정\n",
    "Fs = 8000  # 샘플링 속도\n",
    "n1 = 832  # 첫 번째 주파수 (Hz)\n",
    "n2 = 350  # 두 번째 주파수 (Hz)\n",
    "d1 = int(0.1 * Fs)  # 첫 번째 구간의 길이 (샘플 수)\n",
    "dm = int(0.04 * Fs)  # 중간 구간의 길이 (샘플 수)\n",
    "d2 = int(0.1 * Fs)  # 두 번째 구간의 길이 (샘플 수)\n",
    "\n",
    "# a 배열 생성\n",
    "a = np.concatenate([n1 * np.ones(d1), np.zeros(dm), n2 * np.ones(d2), np.zeros(dm)])\n",
    "\n",
    "# b 배열 생성\n",
    "b_ramp_down = n1 - np.arange(1, dm + 1) * (n1 - n2) / dm\n",
    "b_ramp_up = n2 + np.arange(1, dm + 1) * (n1 - n2) / dm\n",
    "b = np.concatenate([n1 * np.ones(d1), b_ramp_down, n2 * np.ones(d2), b_ramp_up])\n",
    "\n",
    "# 사운드 신호 생성\n",
    "sa = freqgen(a, Fs)\n",
    "sb = freqgen(b, Fs)"
   ]
  },
  {
   "cell_type": "code",
   "execution_count": 24,
   "id": "fce4edbf",
   "metadata": {},
   "outputs": [],
   "source": [
    "# amp 계산\n",
    "amp = 0.4 + np.sign(a) / 2\n",
    "\n",
    "# sa와 sb에 amp를 곱하여 조정\n",
    "sa = sa * amp\n",
    "sb = sb * amp"
   ]
  },
  {
   "cell_type": "code",
   "execution_count": 25,
   "id": "aad1f8f2",
   "metadata": {},
   "outputs": [],
   "source": [
    "sa_repeated = np.tile(sa, 8)\n",
    "\n",
    "# 사운드 재생 (sa)\n",
    "sd.play(sa_repeated / np.max(np.abs(sa_repeated)), samplerate=Fs)\n",
    "sd.wait()  # 재생이 끝날 때까지 대기"
   ]
  },
  {
   "cell_type": "code",
   "execution_count": 26,
   "id": "f95d21fb",
   "metadata": {},
   "outputs": [],
   "source": [
    "sb_repeated = np.tile(sb, 8)\n",
    "\n",
    "# 사운드 재생 (sb)\n",
    "sd.play(sb_repeated / np.max(np.abs(sb_repeated)), samplerate=Fs)\n",
    "sd.wait()  # 재생이 끝날 때까지 대기"
   ]
  }
 ],
 "metadata": {
  "kernelspec": {
   "display_name": "smplify_x4",
   "language": "python",
   "name": "smplify_x4"
  },
  "language_info": {
   "codemirror_mode": {
    "name": "ipython",
    "version": 3
   },
   "file_extension": ".py",
   "mimetype": "text/x-python",
   "name": "python",
   "nbconvert_exporter": "python",
   "pygments_lexer": "ipython3",
   "version": "3.6.13"
  }
 },
 "nbformat": 4,
 "nbformat_minor": 5
}
