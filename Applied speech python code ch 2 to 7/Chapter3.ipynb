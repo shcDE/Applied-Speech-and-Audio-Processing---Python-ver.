{
 "cells": [
  {
   "cell_type": "markdown",
   "id": "4047c298",
   "metadata": {},
   "source": [
    "## Chapter 3: Speech"
   ]
  },
  {
   "cell_type": "markdown",
   "id": "61501a61",
   "metadata": {},
   "source": [
    "### 3.3 Speech understanding"
   ]
  },
  {
   "cell_type": "markdown",
   "id": "dfde015b",
   "metadata": {},
   "source": [
    "#### 3.3.2 Measurement of speech quality"
   ]
  },
  {
   "cell_type": "code",
   "execution_count": 1,
   "id": "bb1c4440",
   "metadata": {},
   "outputs": [],
   "source": [
    "# 교재 본문에 없는 임의로 생성한 코드\n",
    "import numpy as np\n",
    "\n",
    "# 임의로 s와 p 배열을 지정 (예시로 배열 길이는 10)\n",
    "s = np.array([2.5, 0.5, 2.1, 7.8, 9.1, 1.4, 3.6, 4.8, 8.2, 5.5])\n",
    "p = np.array([2.7, 0.3, 2.0, 7.5, 8.8, 1.7, 3.4, 5.0, 8.1, 5.7])"
   ]
  },
  {
   "cell_type": "code",
   "execution_count": 2,
   "id": "db3ab4a3",
   "metadata": {},
   "outputs": [
    {
     "name": "stdout",
     "output_type": "stream",
     "text": [
      "MSE: 0.04899999999999995\n"
     ]
    }
   ],
   "source": [
    "# MSE 계산\n",
    "mse = np.mean((s - p) ** 2)\n",
    "\n",
    "# 결과 출력\n",
    "print(\"MSE:\", mse)"
   ]
  },
  {
   "cell_type": "code",
   "execution_count": 3,
   "id": "51aab635",
   "metadata": {},
   "outputs": [],
   "source": [
    "# 교재 본문에 없는 임의로 생성한 코드\n",
    "# 임의의 N과 j 값 설정\n",
    "N = 5  # 구간의 크기\n",
    "num_segments = 4  # 예시로 총 4개의 구간이 있다고 가정\n",
    "\n",
    "# 임의의 s와 p 배열 값 (길이는 N * num_segments와 같아야 함)\n",
    "s = np.array([2.5, 0.5, 2.1, 7.8, 9.1, 1.4, 3.6, 4.8, 8.2, 5.5, 1.2, 0.4, 6.9, 7.3, 3.1, 5.0, 2.9, 4.7, 6.1, 8.0])\n",
    "p = np.array([2.7, 0.3, 2.0, 7.5, 8.8, 1.7, 3.4, 5.0, 8.1, 5.7, 1.0, 0.5, 7.0, 7.0, 3.5, 5.1, 2.8, 4.6, 6.0, 7.9])"
   ]
  },
  {
   "cell_type": "code",
   "execution_count": 4,
   "id": "cb96cbad",
   "metadata": {},
   "outputs": [
    {
     "name": "stdout",
     "output_type": "stream",
     "text": [
      "MSE for each segment: [0.054 0.044 0.062 0.01 ]\n"
     ]
    }
   ],
   "source": [
    "# MSE 계산을 위한 배열 초기화\n",
    "mse = np.zeros(num_segments)\n",
    "\n",
    "# 구간별 MSE 계산\n",
    "for j in range(num_segments):\n",
    "    mse[j] = np.mean((s[j*N:(j+1)*N] - p[j*N:(j+1)*N]) ** 2)\n",
    "\n",
    "# 결과 출력\n",
    "print(\"MSE for each segment:\", mse)"
   ]
  },
  {
   "cell_type": "code",
   "execution_count": 5,
   "id": "a695f485",
   "metadata": {},
   "outputs": [],
   "source": [
    "# 교재 본문에 없는 임의로 생성한 코드\n",
    "# 임의로 s (신호 파워)와 n (잡음 파워) 값을 설정\n",
    "s = np.array([1.0, 2.0, 3.0, 4.0, 5.0])  # 신호 파워\n",
    "n = np.array([0.1, 0.2, 0.3, 0.4, 0.5])  # 잡음 파워"
   ]
  },
  {
   "cell_type": "code",
   "execution_count": 6,
   "id": "336f8a61",
   "metadata": {},
   "outputs": [
    {
     "name": "stdout",
     "output_type": "stream",
     "text": [
      "SNR: [10. 10. 10. 10. 10.]\n"
     ]
    }
   ],
   "source": [
    "# SNR 계산 (신호 대 잡음비)\n",
    "snr = 10 * np.log10(s / n)\n",
    "\n",
    "# 결과 출력\n",
    "print(\"SNR:\", snr)"
   ]
  },
  {
   "cell_type": "code",
   "execution_count": 7,
   "id": "2d504eb8",
   "metadata": {},
   "outputs": [],
   "source": [
    "# 교재 본문에 없는 임의로 생성한 코드\n",
    "# 임의의 N과 j 값 설정\n",
    "N = 5  # 구간의 크기\n",
    "num_segments = 4  # 예시로 총 4개의 구간이 있다고 가정\n",
    "\n",
    "# 임의의 s와 n 배열 값 (길이는 N * num_segments와 같아야 함)\n",
    "s = np.array([1.0, 2.0, 3.0, 4.0, 5.0, 1.5, 2.5, 3.5, 4.5, 5.5, 1.1, 2.1, 3.1, 4.1, 5.1, 1.2, 2.2, 3.2, 4.2, 5.2])\n",
    "n = np.array([0.1, 0.2, 0.3, 0.4, 0.5, 0.2, 0.3, 0.4, 0.5, 0.6, 0.1, 0.2, 0.3, 0.4, 0.5, 0.3, 0.4, 0.5, 0.6, 0.7])"
   ]
  },
  {
   "cell_type": "code",
   "execution_count": 8,
   "id": "ecf5f1e6",
   "metadata": {},
   "outputs": [
    {
     "name": "stdout",
     "output_type": "stream",
     "text": [
      "Segment-wise SNR: [10.          9.31966115 10.19393264  7.8288195 ]\n"
     ]
    }
   ],
   "source": [
    "# segsnr 계산을 위한 배열 초기화\n",
    "segsnr = np.zeros(num_segments)\n",
    "\n",
    "# 구간별 SNR 계산\n",
    "for j in range(num_segments):\n",
    "    segsnr[j] = 10 * np.log10(np.mean(s[j*N:(j+1)*N] / n[j*N:(j+1)*N]))\n",
    "\n",
    "# 결과 출력\n",
    "print(\"Segment-wise SNR:\", segsnr)"
   ]
  },
  {
   "cell_type": "code",
   "execution_count": 9,
   "id": "9b4e8e81",
   "metadata": {},
   "outputs": [],
   "source": [
    "# 교재 본문에 없는 임의로 생성한 코드\n",
    "from scipy.fft import fft\n",
    "from scipy.signal import hamming\n",
    "\n",
    "# N은 신호의 구간 크기라고 가정\n",
    "N = 1024  # 예시 구간 크기\n",
    "\n",
    "# 임의의 s와 p 배열 값 설정 (길이는 N이어야 함)\n",
    "s = np.random.randn(N)  # 예시 신호 s\n",
    "p = np.random.randn(N)  # 예시 신호 p"
   ]
  },
  {
   "cell_type": "code",
   "execution_count": 10,
   "id": "fc821e20",
   "metadata": {},
   "outputs": [],
   "source": [
    "# 해밍 창 적용 후 FFT 계산 및 절대값의 로그 변환 (첫 N/2 성분만 사용)\n",
    "S = fft(s * hamming(N))\n",
    "S = 20 * np.log10(np.abs(S[:N // 2]))\n",
    "\n",
    "P = fft(p * hamming(N))\n",
    "P = 20 * np.log10(np.abs(P[:N // 2]))"
   ]
  },
  {
   "cell_type": "code",
   "execution_count": 11,
   "id": "547dd673",
   "metadata": {},
   "outputs": [
    {
     "name": "stdout",
     "output_type": "stream",
     "text": [
      "Mean Squared Difference (SD): 72.93293521587442\n"
     ]
    }
   ],
   "source": [
    "# S와 P의 평균 제곱 오차 계산\n",
    "SD = np.mean((S - P) ** 2)\n",
    "\n",
    "# 결과 출력\n",
    "print(\"Mean Squared Difference (SD):\", SD)"
   ]
  }
 ],
 "metadata": {
  "kernelspec": {
   "display_name": "smplify_x4",
   "language": "python",
   "name": "smplify_x4"
  },
  "language_info": {
   "codemirror_mode": {
    "name": "ipython",
    "version": 3
   },
   "file_extension": ".py",
   "mimetype": "text/x-python",
   "name": "python",
   "nbconvert_exporter": "python",
   "pygments_lexer": "ipython3",
   "version": "3.6.13"
  }
 },
 "nbformat": 4,
 "nbformat_minor": 5
}
